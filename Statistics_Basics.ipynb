{
  "nbformat": 4,
  "nbformat_minor": 0,
  "metadata": {
    "colab": {
      "provenance": []
    },
    "kernelspec": {
      "name": "python3",
      "display_name": "Python 3"
    },
    "language_info": {
      "name": "python"
    }
  },
  "cells": [
    {
      "cell_type": "markdown",
      "source": [
        "# Statistics Basics\n",
        "\n",
        "1.  What is statistics, and why is it important ?\n",
        "\n",
        "- Statistics is the science of collecting, analyzing, interpreting, presenting, and organizing data.\n",
        "-It is important because it helps in decision-making, understanding patterns, and making predictions in various fields like economics, medicine, and social sciences.\n",
        "\n",
        "2. What are the two main types of statistics ?\n",
        "\n",
        "- Descriptive Statistics\n",
        "\n",
        "- Inferential Statistics\n",
        "\n",
        "3.  What are descriptive statistics ?\n",
        "\n",
        "- Descriptive statistics summarize or describe the main features of a dataset using measures like mean, median, mode, range, variance, and standard deviation.\n",
        "\n",
        "4. What is inferential statistics ?\n",
        "\n",
        "- Inferential statistics use data from a sample to make inferences or predictions about a population. It involves hypothesis testing, confidence intervals, and regression analysis.\n",
        "\n",
        "5. What is sampling in statistics ?\n",
        "\n",
        "- Sampling is the process of selecting a subset of individuals from a population to estimate characteristics of the whole population.\n",
        "\n",
        "6. What are the different types of sampling methods ?\n",
        "\n",
        "- Random Sampling Methods:\n",
        "\n",
        "- Simple random sampling\n",
        "\n",
        "- Stratified sampling\n",
        "\n",
        "- Systematic sampling\n",
        "\n",
        "- Cluster sampling\n",
        "\n",
        "- Non-Random Sampling Methods:\n",
        "\n",
        "- Convenience sampling\n",
        "\n",
        "- Judgmental sampling\n",
        "\n",
        "- Snowball sampling\n",
        "\n",
        "- Quota sampling\n",
        "\n",
        "7.  What is the difference between random and non-random sampling ?\n",
        "\n",
        "- Random Sampling: Every individual has an equal chance of selection. It's less biased.\n",
        "\n",
        "- Non-Random Sampling: Selection based on subjective judgment. More prone to bias.\n",
        "\n",
        "8. Define and give examples of qualitative and quantitative data.\n",
        "\n",
        "- Qualitative (Categorical): Non-numeric; e.g., gender, colors, brands.\n",
        "\n",
        "- Quantitative (Numerical): Numeric; e.g., height, weight, temperature.\n",
        "\n",
        "9.  What are the different types of data in statistics ?\n",
        "\n",
        "- Qualitative (Nominal, Ordinal)\n",
        "\n",
        "- Quantitative (Interval, Ratio)\n",
        "\n",
        "10. Explain nominal, ordinal, interval, and ratio levels of measurement.\n",
        "\n",
        "- Nominal: Categories with no order (e.g., blood type)\n",
        "\n",
        "- Ordinal: Categories with order (e.g., rankings)\n",
        "\n",
        "- Interval: Numeric, no true zero (e.g., temperature in Celsius)\n",
        "\n",
        "- Ratio: Numeric with a true zero (e.g., weight, height)\n",
        "\n",
        "11. What is the measure of central tendency ?\n",
        "\n",
        "- A statistical measure to identify the center of a dataset. Common measures: mean, median, mode.\n",
        "\n",
        "12.  Define mean, median, and mode.\n",
        "\n",
        "- Mean: Average of all values\n",
        "\n",
        "- Median: Middle value when data is sorted\n",
        "\n",
        "- Mode: Most frequently occurring value\n",
        "\n",
        "\n",
        "13. What is the significance of the measure of central tendency ?\n",
        "\n",
        "- It provides a single value that represents the entire dataset, helping in understanding the typical value in the data.\n",
        "\n",
        "14.  What is variance, and how is it calculated ?\n",
        "\n",
        "- Variance measures how data points differ from the mean.\n",
        "Formula:\n",
        "\n",
        "- Variance\n",
        "=\n",
        "∑\n",
        "(\n",
        "𝑥\n",
        "𝑖\n",
        "−\n",
        "𝜇\n",
        ")\n",
        "2\n",
        "𝑛\n",
        "- Variance=\n",
        "n\n",
        "∑(x\n",
        "i\n",
        "​\n",
        " −μ)\n",
        "2\n",
        "\n",
        "​\n",
        "\n",
        "\n",
        "15.  What is standard deviation, and why is it important ?\n",
        "\n",
        "- Standard deviation is the square root of variance. It shows how spread out the data is.\n",
        "- It’s crucial for understanding data variability.\n",
        "\n",
        "16. Define and explain the term range in statistics.\n",
        "\n",
        "- Range = Maximum value − Minimum value\n",
        "- It shows the spread of the dataset.\n",
        "\n",
        "17. What is the difference between variance and standard deviation ?\n",
        "\n",
        "- Variance is the average squared deviation from the mean.\n",
        "\n",
        "- Standard Deviation is its square root, in the same units as the data.\n",
        "\n",
        "18.  What is skewness in a dataset ?\n",
        "\n",
        "- Skewness measures the asymmetry of the data distribution.\n",
        "\n",
        "- Zero skew: symmetrical\n",
        "\n",
        "- Positive skew: tail on the right\n",
        "\n",
        "- Negative skew: tail on the left\n",
        "\n",
        "19. What does it mean if a dataset is positively or negatively skewed ?\n",
        "\n",
        "- Positively skewed: Mean > Median (e.g., income distribution)\n",
        "\n",
        "- Negatively skewed: Mean < Median (e.g., test scores with many high values)\n",
        "\n",
        "\n",
        "\n",
        "20.  Define and explain kurtosis ?\n",
        "\n",
        "- Kurtosis measures the tailedness of a distribution.\n",
        "\n",
        "- High kurtosis: heavy tails (more outliers)\n",
        "\n",
        "- Low kurtosis: light tails (fewer outliers)\n",
        "\n",
        "\n",
        "21. What is the purpose of covariance ?\n",
        "\n",
        "- Covariance measures how two variables change together.\n",
        "Positive = same direction, Negative = opposite direction\n",
        "\n",
        "22. What is the difference between covariance and correlation ?\n",
        "\n",
        "- Correlation measures the strength and direction of a linear relationship between two variables (ranges from -1 to 1).\n",
        "\n",
        "23. What is the difference between covariance and correlation ?\n",
        "\n",
        "- Covariance: Unscaled, affected by units\n",
        "\n",
        "- Correlation: Scaled version of covariance (unitless, easier to interpret)\n",
        "\n",
        "24. What are some real-world applications of statistics ?\n",
        "\n",
        "- Medicine: Drug efficacy, clinical trials\n",
        "\n",
        "- Business: Market analysis, forecasting\n",
        "\n",
        "- Education: Student performance analysis\n",
        "\n",
        "- Government: Census data, policymaking\n",
        "\n",
        "- Sports: Player performance, win probability\n",
        "\n",
        "\n",
        "# Practical\n"
      ],
      "metadata": {
        "id": "BF94v0feaO80"
      }
    },
    {
      "cell_type": "code",
      "source": [
        "# 1. How do you calculate the mean, median, and mode of a dataset ?\n",
        "\n",
        "import statistics\n",
        "\n",
        "data = [2, 4, 7, 9, 10, 10, 11]\n",
        "\n",
        "mean = statistics.mean(data)\n",
        "median = statistics.median(data)\n",
        "mode = statistics.mode(data)\n",
        "\n",
        "print(\"Mean:\", mean)\n",
        "print(\"Median:\", median)\n",
        "print(\"Mode:\", mode)\n"
      ],
      "metadata": {
        "colab": {
          "base_uri": "https://localhost:8080/"
        },
        "id": "AlVB33VmnS9J",
        "outputId": "867497df-c78d-4d2c-f1c3-26b4610eed3f"
      },
      "execution_count": 1,
      "outputs": [
        {
          "output_type": "stream",
          "name": "stdout",
          "text": [
            "Mean: 7.571428571428571\n",
            "Median: 9\n",
            "Mode: 10\n"
          ]
        }
      ]
    },
    {
      "cell_type": "code",
      "source": [
        "# 2.  Write a Python program to compute the variance and standard deviation of a dataset.\n",
        "\n",
        "variance = statistics.variance(data)\n",
        "std_dev = statistics.stdev(data)\n",
        "\n",
        "print(\"Variance:\", variance)\n",
        "print(\"Standard Deviation:\", std_dev)\n"
      ],
      "metadata": {
        "colab": {
          "base_uri": "https://localhost:8080/"
        },
        "id": "1LtfrKZank1Y",
        "outputId": "215e3e61-4a8b-40de-f6af-fa0f421faa0b"
      },
      "execution_count": 2,
      "outputs": [
        {
          "output_type": "stream",
          "name": "stdout",
          "text": [
            "Variance: 11.619047619047619\n",
            "Standard Deviation: 3.408672412985387\n"
          ]
        }
      ]
    },
    {
      "cell_type": "code",
      "source": [
        "# 3.  Create a dataset and classify it into nominal, ordinal, interval, and ratio types.\n",
        "\n",
        "dataset = {\n",
        "    \"Nominal\": [\"Red\", \"Blue\", \"Green\"],              # Categories with no order\n",
        "    \"Ordinal\": [\"Low\", \"Medium\", \"High\"],             # Categories with order\n",
        "    \"Interval\": [10, 20, 30],                         # Equal intervals, no true zero (e.g., temperature in Celsius)\n",
        "    \"Ratio\": [5.5, 7.2, 0, 10.3]                      # Has a true zero (e.g., height, weight)\n",
        "}\n"
      ],
      "metadata": {
        "id": "d7-HaQYZn1je"
      },
      "execution_count": 3,
      "outputs": []
    },
    {
      "cell_type": "code",
      "source": [
        "# 4.  Implement sampling techniques like random sampling and stratified sampling.\n",
        "\n",
        "import pandas as pd\n",
        "from sklearn.model_selection import train_test_split\n",
        "\n",
        "df = pd.DataFrame({\n",
        "    'Gender': ['M', 'F', 'M', 'F', 'F', 'M', 'F', 'M'],\n",
        "    'Score': [88, 92, 85, 90, 70, 78, 85, 95]\n",
        "})\n",
        "\n",
        "# Random sampling\n",
        "random_sample = df.sample(n=4)\n",
        "\n",
        "# Stratified sampling\n",
        "stratified_sample = df.groupby('Gender', group_keys=False).apply(lambda x: x.sample(frac=0.5))\n",
        "\n",
        "print(\"Random Sample:\\n\", random_sample)\n",
        "print(\"\\nStratified Sample:\\n\", stratified_sample)\n"
      ],
      "metadata": {
        "colab": {
          "base_uri": "https://localhost:8080/"
        },
        "id": "03ZDbO21oASc",
        "outputId": "e9699740-2bbd-48ff-8c84-9f63ca5f1863"
      },
      "execution_count": 4,
      "outputs": [
        {
          "output_type": "stream",
          "name": "stdout",
          "text": [
            "Random Sample:\n",
            "   Gender  Score\n",
            "1      F     92\n",
            "6      F     85\n",
            "2      M     85\n",
            "7      M     95\n",
            "\n",
            "Stratified Sample:\n",
            "   Gender  Score\n",
            "4      F     70\n",
            "1      F     92\n",
            "5      M     78\n",
            "7      M     95\n"
          ]
        },
        {
          "output_type": "stream",
          "name": "stderr",
          "text": [
            "<ipython-input-4-1070235681>:15: DeprecationWarning: DataFrameGroupBy.apply operated on the grouping columns. This behavior is deprecated, and in a future version of pandas the grouping columns will be excluded from the operation. Either pass `include_groups=False` to exclude the groupings or explicitly select the grouping columns after groupby to silence this warning.\n",
            "  stratified_sample = df.groupby('Gender', group_keys=False).apply(lambda x: x.sample(frac=0.5))\n"
          ]
        }
      ]
    },
    {
      "cell_type": "code",
      "source": [
        "# 5. Write a Python function to calculate the range of a dataset.\n",
        "\n",
        "def calculate_range(data):\n",
        "    return max(data) - min(data)\n",
        "\n",
        "print(\"Range:\", calculate_range(data))\n"
      ],
      "metadata": {
        "colab": {
          "base_uri": "https://localhost:8080/"
        },
        "id": "lqHPz6qmoLRr",
        "outputId": "f5ca7a42-5f8f-4eb4-f911-28e2fec30567"
      },
      "execution_count": 5,
      "outputs": [
        {
          "output_type": "stream",
          "name": "stdout",
          "text": [
            "Range: 9\n"
          ]
        }
      ]
    },
    {
      "cell_type": "code",
      "source": [
        "# 6.  Create a dataset and plot its histogram to visualize skewness.\n",
        "\n",
        "import matplotlib.pyplot as plt\n",
        "\n",
        "plt.hist(data, bins=5, edgecolor='black')\n",
        "plt.title(\"Histogram\")\n",
        "plt.xlabel(\"Values\")\n",
        "plt.ylabel(\"Frequency\")\n",
        "plt.show()\n"
      ],
      "metadata": {
        "colab": {
          "base_uri": "https://localhost:8080/",
          "height": 472
        },
        "id": "RwkQa_WOotl6",
        "outputId": "b9f3b7c4-c757-4004-a877-390f3364972e"
      },
      "execution_count": 6,
      "outputs": [
        {
          "output_type": "display_data",
          "data": {
            "text/plain": [
              "<Figure size 640x480 with 1 Axes>"
            ],
            "image/png": "[encoded data removed]"
          },
          "metadata": {}
        }
      ]
    },
    {
      "cell_type": "code",
      "source": [
        "# 7. Calculate skewness and kurtosis of a dataset using Python libraries.\n",
        "\n",
        "from scipy.stats import skew, kurtosis\n",
        "\n",
        "print(\"Skewness:\", skew(data))\n",
        "print(\"Kurtosis:\", kurtosis(data))\n"
      ],
      "metadata": {
        "colab": {
          "base_uri": "https://localhost:8080/"
        },
        "id": "uphCbT5Fo9Hp",
        "outputId": "696cbfee-a1a2-4ab2-bbd0-b3f146b6006a"
      },
      "execution_count": 7,
      "outputs": [
        {
          "output_type": "stream",
          "name": "stdout",
          "text": [
            "Skewness: -0.6673300789240557\n",
            "Kurtosis: -1.0725107497984412\n"
          ]
        }
      ]
    },
    {
      "cell_type": "code",
      "source": [
        "# 8. Generate a dataset and demonstrate positive and negative skewness.\n",
        "\n",
        "import numpy as np\n",
        "\n",
        "pos_skew = np.concatenate([np.random.normal(50, 5, 1000), np.random.normal(100, 1, 100)])\n",
        "neg_skew = np.concatenate([np.random.normal(50, 5, 1000), np.random.normal(0, 1, 100)])\n",
        "\n",
        "plt.hist(pos_skew, bins=30)\n",
        "plt.title(\"Positive Skew\")\n",
        "plt.show()\n",
        "\n",
        "plt.hist(neg_skew, bins=30)\n",
        "plt.title(\"Negative Skew\")\n",
        "plt.show()\n"
      ],
      "metadata": {
        "colab": {
          "base_uri": "https://localhost:8080/",
          "height": 887
        },
        "id": "vUhfAplopL8D",
        "outputId": "663eb1b3-2750-47f4-a1c0-47d57fe6c70f"
      },
      "execution_count": 8,
      "outputs": [
        {
          "output_type": "display_data",
          "data": {
            "text/plain": [
              "<Figure size 640x480 with 1 Axes>"
            ],
            "image/png": "[encoded data removed]"
          },
          "metadata": {}
        },
        {
          "output_type": "display_data",
          "data": {
            "text/plain": [
              "<Figure size 640x480 with 1 Axes>"
            ],
            "image/png": "[encoded data removed]"
          },
          "metadata": {}
        }
      ]
    },
    {
      "cell_type": "code",
      "source": [
        "# 9.  Write a Python script to calculate covariance between two datasets.\n",
        "\n",
        "x = [2, 4, 8, 10]\n",
        "y = [1, 3, 6, 8]\n",
        "\n",
        "cov_matrix = np.cov(x, y)\n",
        "print(\"Covariance:\", cov_matrix[0][1])\n"
      ],
      "metadata": {
        "colab": {
          "base_uri": "https://localhost:8080/"
        },
        "id": "p7XwHxJUpo5d",
        "outputId": "10482644-c5e5-4f02-947c-998493d04070"
      },
      "execution_count": 9,
      "outputs": [
        {
          "output_type": "stream",
          "name": "stdout",
          "text": [
            "Covariance: 11.333333333333332\n"
          ]
        }
      ]
    },
    {
      "cell_type": "code",
      "source": [
        "# 10.  Write a Python script to calculate the correlation coefficient between two datasets.\n",
        "\n",
        "corr_coef = np.corrcoef(x, y)[0][1]\n",
        "print(\"Correlation Coefficient:\", corr_coef)\n"
      ],
      "metadata": {
        "colab": {
          "base_uri": "https://localhost:8080/"
        },
        "id": "9QsZGh2ap52p",
        "outputId": "45dff476-55fd-4325-a686-be3f3656c755"
      },
      "execution_count": 10,
      "outputs": [
        {
          "output_type": "stream",
          "name": "stdout",
          "text": [
            "Correlation Coefficient: 0.998274373174996\n"
          ]
        }
      ]
    },
    {
      "cell_type": "code",
      "source": [
        "# 11.  Create a scatter plot to visualize the relationship between two variables.\n",
        "\n",
        "plt.scatter(x, y)\n",
        "plt.title(\"Scatter Plot\")\n",
        "plt.xlabel(\"X\")\n",
        "plt.ylabel(\"Y\")\n",
        "plt.show()\n"
      ],
      "metadata": {
        "colab": {
          "base_uri": "https://localhost:8080/",
          "height": 472
        },
        "id": "KvCFkCUtqIF1",
        "outputId": "6c0b3925-b13a-47ba-e13e-ef43b4f3e8ea"
      },
      "execution_count": 11,
      "outputs": [
        {
          "output_type": "display_data",
          "data": {
            "text/plain": [
              "<Figure size 640x480 with 1 Axes>"
            ],
            "image/png": "[encoded data removed]"
          },
          "metadata": {}
        }
      ]
    },
    {
      "cell_type": "code",
      "source": [
        "# 12.  Implement and compare simple random sampling and systematic sampling.\n",
        "\n",
        "import random\n",
        "\n",
        "# Simple Random\n",
        "simple_random = random.sample(data, 3)\n",
        "\n",
        "# Systematic Sampling\n",
        "step = len(data) // 3\n",
        "systematic_sample = data[::step]\n",
        "\n",
        "print(\"Simple Random Sample:\", simple_random)\n",
        "print(\"Systematic Sample:\", systematic_sample)\n"
      ],
      "metadata": {
        "colab": {
          "base_uri": "https://localhost:8080/"
        },
        "id": "KenMfiIeqUw4",
        "outputId": "eee3f221-79d3-4c81-e548-16451643085c"
      },
      "execution_count": 12,
      "outputs": [
        {
          "output_type": "stream",
          "name": "stdout",
          "text": [
            "Simple Random Sample: [7, 11, 9]\n",
            "Systematic Sample: [2, 7, 10, 11]\n"
          ]
        }
      ]
    },
    {
      "cell_type": "code",
      "source": [
        "# 13. Calculate the mean, median, and mode of grouped data.\n",
        "\n",
        "# Frequency Table Example\n",
        "grouped_data = {\n",
        "    \"class_interval\": [(0,10), (10,20), (20,30)],\n",
        "    \"frequency\": [5, 10, 5]\n",
        "}\n",
        "\n",
        "# Approximate mean\n",
        "midpoints = [sum(interval)/2 for interval in grouped_data[\"class_interval\"]]\n",
        "mean_grouped = sum([f*m for f,m in zip(grouped_data[\"frequency\"], midpoints)]) / sum(grouped_data[\"frequency\"])\n",
        "print(\"Grouped Mean:\", mean_grouped)\n"
      ],
      "metadata": {
        "colab": {
          "base_uri": "https://localhost:8080/"
        },
        "id": "pZ9Q1243rzz4",
        "outputId": "cd40bd29-a3a5-45e9-c25a-8b2a2d90befc"
      },
      "execution_count": 13,
      "outputs": [
        {
          "output_type": "stream",
          "name": "stdout",
          "text": [
            "Grouped Mean: 15.0\n"
          ]
        }
      ]
    },
    {
      "cell_type": "code",
      "source": [
        "# 14. Simulate data using Python and calculate its central tendency and dispersion.\n",
        "\n",
        "sim_data = np.random.normal(loc=50, scale=10, size=1000)\n",
        "\n",
        "print(\"Mean:\", np.mean(sim_data))\n",
        "print(\"Std Dev:\", np.std(sim_data))\n",
        "print(\"Median:\", np.median(sim_data))\n"
      ],
      "metadata": {
        "colab": {
          "base_uri": "https://localhost:8080/"
        },
        "id": "PO9MAV7osQ0G",
        "outputId": "6d24c39e-beeb-4d90-ceda-054335f640f4"
      },
      "execution_count": 14,
      "outputs": [
        {
          "output_type": "stream",
          "name": "stdout",
          "text": [
            "Mean: 50.14855273341939\n",
            "Std Dev: 9.55420037259964\n",
            "Median: 49.88074964777402\n"
          ]
        }
      ]
    },
    {
      "cell_type": "code",
      "source": [
        "# 15. Use NumPy or pandas to summarize a dataset’s descriptive statistics.\n",
        "\n",
        "df = pd.DataFrame({'Scores': sim_data})\n",
        "print(df.describe())\n"
      ],
      "metadata": {
        "colab": {
          "base_uri": "https://localhost:8080/"
        },
        "id": "_8C9J_F4sqtr",
        "outputId": "82883c18-fd4b-4d11-f175-359b99350842"
      },
      "execution_count": 15,
      "outputs": [
        {
          "output_type": "stream",
          "name": "stdout",
          "text": [
            "            Scores\n",
            "count  1000.000000\n",
            "mean     50.148553\n",
            "std       9.558981\n",
            "min      20.791359\n",
            "25%      44.271622\n",
            "50%      49.880750\n",
            "75%      56.422918\n",
            "max      80.825844\n"
          ]
        }
      ]
    },
    {
      "cell_type": "code",
      "source": [
        "# 16. Plot a boxplot to understand the spread and identify outliers.\n",
        "\n",
        "plt.boxplot(sim_data)\n",
        "plt.title(\"Boxplot\")\n",
        "plt.show()\n"
      ],
      "metadata": {
        "colab": {
          "base_uri": "https://localhost:8080/",
          "height": 452
        },
        "id": "Lr9tj6KAs9s_",
        "outputId": "7d571abf-c15d-4da7-e42d-5c830a3dc4f4"
      },
      "execution_count": 16,
      "outputs": [
        {
          "output_type": "display_data",
          "data": {
            "text/plain": [
              "<Figure size 640x480 with 1 Axes>"
            ],
            "image/png": "[encoded data removed]"
          },
          "metadata": {}
        }
      ]
    },
    {
      "cell_type": "code",
      "source": [
        "# 17.  Calculate the interquartile range (IQR) of a dataset.\n",
        "\n",
        "Q1 = np.percentile(sim_data, 25)\n",
        "Q3 = np.percentile(sim_data, 75)\n",
        "IQR = Q3 - Q1\n",
        "print(\"IQR:\", IQR)\n"
      ],
      "metadata": {
        "colab": {
          "base_uri": "https://localhost:8080/"
        },
        "id": "_VL6GoYWtPFw",
        "outputId": "413ba855-584c-4136-f73d-809ffcb0d88b"
      },
      "execution_count": 17,
      "outputs": [
        {
          "output_type": "stream",
          "name": "stdout",
          "text": [
            "IQR: 12.151296626917642\n"
          ]
        }
      ]
    },
    {
      "cell_type": "code",
      "source": [
        "# 18.  Implement Z-score normalization and explain its significance.\n",
        "\n",
        "from scipy.stats import zscore\n",
        "\n",
        "z_scores = zscore(sim_data)\n",
        "print(\"Z-scores:\\n\", z_scores[:5])  # First 5 for display\n"
      ],
      "metadata": {
        "colab": {
          "base_uri": "https://localhost:8080/"
        },
        "id": "1GneCiTytv8H",
        "outputId": "a87f5baa-5634-4971-f1ab-341869b0d813"
      },
      "execution_count": 18,
      "outputs": [
        {
          "output_type": "stream",
          "name": "stdout",
          "text": [
            "Z-scores:\n",
            " [ 0.39480921 -0.16490972 -0.78052865  0.70699263  1.59102963]\n"
          ]
        }
      ]
    },
    {
      "cell_type": "code",
      "source": [
        "# 19. Compare two datasets using their standard deviations.\n",
        "\n",
        "data1 = np.random.normal(30, 5, 100)\n",
        "data2 = np.random.normal(30, 15, 100)\n",
        "\n",
        "print(\"SD of Dataset 1:\", np.std(data1))\n",
        "print(\"SD of Dataset 2:\", np.std(data2))\n"
      ],
      "metadata": {
        "colab": {
          "base_uri": "https://localhost:8080/"
        },
        "id": "ekeV-bOWuAvT",
        "outputId": "58f86871-0833-49f9-fa73-9ba92e7bcdcd"
      },
      "execution_count": 19,
      "outputs": [
        {
          "output_type": "stream",
          "name": "stdout",
          "text": [
            "SD of Dataset 1: 5.337775792248057\n",
            "SD of Dataset 2: 16.08183207191458\n"
          ]
        }
      ]
    },
    {
      "cell_type": "code",
      "source": [
        "# 20. Write a Python program to visualize covariance using a heatmap.\n",
        "\n",
        "import seaborn as sns\n",
        "\n",
        "df = pd.DataFrame({'X': x, 'Y': y})\n",
        "sns.heatmap(df.cov(), annot=True, cmap='coolwarm')\n",
        "plt.title(\"Covariance Heatmap\")\n",
        "plt.show()\n"
      ],
      "metadata": {
        "colab": {
          "base_uri": "https://localhost:8080/",
          "height": 452
        },
        "id": "LSqV3N8Vue5U",
        "outputId": "c77e6b60-d8d0-4679-bb1c-4f6b6557cd99"
      },
      "execution_count": 20,
      "outputs": [
        {
          "output_type": "display_data",
          "data": {
            "text/plain": [
              "<Figure size 640x480 with 2 Axes>"
            ],
            "image/png": "[encoded data removed]"
          },
          "metadata": {}
        }
      ]
    },
    {
      "cell_type": "code",
      "source": [
        "# 21.  Use seaborn to create a correlation matrix for a dataset.\n",
        "\n",
        "sns.heatmap(df.corr(), annot=True, cmap='coolwarm')\n",
        "plt.title(\"Correlation Matrix\")\n",
        "plt.show()\n"
      ],
      "metadata": {
        "colab": {
          "base_uri": "https://localhost:8080/",
          "height": 452
        },
        "id": "Ip4wY5rRu5Sp",
        "outputId": "5f93ecde-a912-4be6-8849-37145f4036c9"
      },
      "execution_count": 21,
      "outputs": [
        {
          "output_type": "display_data",
          "data": {
            "text/plain": [
              "<Figure size 640x480 with 2 Axes>"
            ],
            "image/png": "[encoded data removed]"
          },
          "metadata": {}
        }
      ]
    },
    {
      "cell_type": "code",
      "source": [
        "# 22.  Generate a dataset and implement both variance and standard deviation computations.\n",
        "\n",
        "print(\"Variance:\", np.var(sim_data))\n",
        "print(\"Standard Deviation:\", np.std(sim_data))\n"
      ],
      "metadata": {
        "colab": {
          "base_uri": "https://localhost:8080/"
        },
        "id": "IWYan72wvfwo",
        "outputId": "20864db1-cc57-4423-e6ec-67ee5bebe29b"
      },
      "execution_count": 22,
      "outputs": [
        {
          "output_type": "stream",
          "name": "stdout",
          "text": [
            "Variance: 91.2827447597831\n",
            "Standard Deviation: 9.55420037259964\n"
          ]
        }
      ]
    },
    {
      "cell_type": "code",
      "source": [
        "# 23. Visualize skewness and kurtosis using Python libraries like matplotlib or seaborn.\n",
        "\n",
        "sns.histplot(sim_data, kde=True)\n",
        "plt.title(\"Skewness & Kurtosis Visualization\")\n",
        "plt.show()\n"
      ],
      "metadata": {
        "colab": {
          "base_uri": "https://localhost:8080/",
          "height": 452
        },
        "id": "LJr-FmFWvvPu",
        "outputId": "da9a652d-f247-44da-a5e4-1aa9d3bcd1d5"
      },
      "execution_count": 23,
      "outputs": [
        {
          "output_type": "display_data",
          "data": {
            "text/plain": [
              "<Figure size 640x480 with 1 Axes>"
            ],
            "image/png": "[encoded data removed]"
          },
          "metadata": {}
        }
      ]
    },
    {
      "cell_type": "code",
      "source": [
        "# 24. Implement the Pearson and Spearman correlation coefficients for a dataset.\n",
        "\n",
        "from scipy.stats import pearsonr, spearmanr\n",
        "\n",
        "print(\"Pearson:\", pearsonr(x, y))\n",
        "print(\"Spearman:\", spearmanr(x, y))\n"
      ],
      "metadata": {
        "colab": {
          "base_uri": "https://localhost:8080/"
        },
        "id": "Timx4Eu9wCn4",
        "outputId": "3c2373e6-7d5b-4ed5-f1db-f509b328ef6e"
      },
      "execution_count": 24,
      "outputs": [
        {
          "output_type": "stream",
          "name": "stdout",
          "text": [
            "Pearson: PearsonRResult(statistic=np.float64(0.9982743731749959), pvalue=np.float64(0.0017256268250041007))\n",
            "Spearman: SignificanceResult(statistic=np.float64(1.0), pvalue=np.float64(0.0))\n"
          ]
        }
      ]
    }
  ]
}